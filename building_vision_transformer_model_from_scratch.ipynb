{
  "cells": [
    {
      "cell_type": "markdown",
      "metadata": {
        "id": "view-in-github",
        "colab_type": "text"
      },
      "source": [
        "<a href=\"https://colab.research.google.com/github/sakshi672/AIMLMonth2023/blob/main/building_vision_transformer_model_from_scratch.ipynb\" target=\"_parent\"><img src=\"https://colab.research.google.com/assets/colab-badge.svg\" alt=\"Open In Colab\"/></a>"
      ]
    },
    {
      "cell_type": "markdown",
      "metadata": {
        "id": "H7rDnq4uxEWt"
      },
      "source": [
        "#1. importing\n"
      ]
    },
    {
      "cell_type": "code",
      "execution_count": 68,
      "metadata": {
        "id": "thONfdJVqpQg"
      },
      "outputs": [],
      "source": [
        "import torch\n",
        "import torch.nn as nn\n",
        "import torch.nn.functional as F\n",
        "import torch.optim as optim\n",
        "import torchvision\n",
        "from torch.utils.data import DataLoader\n",
        "from torchvision import datasets, transforms\n",
        "import numpy as np\n",
        "import random\n",
        "import matplotlib.pyplot as plt"
      ]
    },
    {
      "cell_type": "code",
      "execution_count": 69,
      "metadata": {
        "colab": {
          "base_uri": "https://localhost:8080/",
          "height": 35
        },
        "id": "g2JhwrePrtdp",
        "outputId": "ba73ccf6-e4ed-4f24-eb76-5c6eefbcdafb"
      },
      "outputs": [
        {
          "output_type": "execute_result",
          "data": {
            "text/plain": [
              "'2.6.0+cu124'"
            ],
            "application/vnd.google.colaboratory.intrinsic+json": {
              "type": "string"
            }
          },
          "metadata": {},
          "execution_count": 69
        }
      ],
      "source": [
        "torch.__version__"
      ]
    },
    {
      "cell_type": "code",
      "execution_count": 70,
      "metadata": {
        "colab": {
          "base_uri": "https://localhost:8080/",
          "height": 35
        },
        "id": "RGla1gu_rtbH",
        "outputId": "17a4a569-f1b0-432e-e794-ba6fd619b0b1"
      },
      "outputs": [
        {
          "output_type": "execute_result",
          "data": {
            "text/plain": [
              "'0.21.0+cu124'"
            ],
            "application/vnd.google.colaboratory.intrinsic+json": {
              "type": "string"
            }
          },
          "metadata": {},
          "execution_count": 70
        }
      ],
      "source": [
        "torchvision.__version__"
      ]
    },
    {
      "cell_type": "markdown",
      "metadata": {
        "id": "ds6P7sgosAHW"
      },
      "source": [
        "#2. Setup device agnostic code\n"
      ]
    },
    {
      "cell_type": "code",
      "execution_count": 71,
      "metadata": {
        "colab": {
          "base_uri": "https://localhost:8080/",
          "height": 35
        },
        "id": "tVFTse5msD0p",
        "outputId": "f4701eb8-a24e-4cc3-e33c-abc3b4617b59"
      },
      "outputs": [
        {
          "output_type": "execute_result",
          "data": {
            "text/plain": [
              "'cuda'"
            ],
            "application/vnd.google.colaboratory.intrinsic+json": {
              "type": "string"
            }
          },
          "metadata": {},
          "execution_count": 71
        }
      ],
      "source": [
        "device=\"cuda\" if torch.cuda.is_available() else \"cpu\"\n",
        "device"
      ]
    },
    {
      "cell_type": "code",
      "execution_count": 72,
      "metadata": {
        "colab": {
          "base_uri": "https://localhost:8080/"
        },
        "id": "prklDD3qsgtf",
        "outputId": "2753d51c-9763-4973-b806-21ab43221b81"
      },
      "outputs": [
        {
          "output_type": "stream",
          "name": "stdout",
          "text": [
            "Using device :cuda\n"
          ]
        }
      ],
      "source": [
        "print(f\"Using device :{device}\")"
      ]
    },
    {
      "cell_type": "markdown",
      "metadata": {
        "id": "BgFdBYhLszgY"
      },
      "source": [
        "#3. Set the seed"
      ]
    },
    {
      "cell_type": "code",
      "execution_count": 73,
      "metadata": {
        "id": "LzlkhPn3sqVT"
      },
      "outputs": [],
      "source": [
        "torch.manual_seed(42)\n",
        "torch.cuda.manual_seed(42)\n",
        "random.seed(42)"
      ]
    },
    {
      "cell_type": "markdown",
      "metadata": {
        "id": "KXAxhu6CtPje"
      },
      "source": [
        "#4. Setting the hyperparameters\n"
      ]
    },
    {
      "cell_type": "code",
      "execution_count": 74,
      "metadata": {
        "id": "974oh7JqsqR7"
      },
      "outputs": [],
      "source": [
        "BATCH_SIZE=128\n",
        "EPOCHS= 40\n",
        "LEARNING_RATE=3e-4\n",
        "PATCH_SIZE=4\n",
        "NUM_CLASSES=10\n",
        "IMAGE_SIZE=32\n",
        "CHANNELS=3\n",
        "EMBED_DIM=256\n",
        "NUM_HEADS=8\n",
        "DEPTH=6\n",
        "MLP_DIM=512\n",
        "DROP_RATE=0.1"
      ]
    },
    {
      "cell_type": "markdown",
      "metadata": {
        "id": "z-ZoAN2WuDJt"
      },
      "source": [
        "#5. Define image transformation"
      ]
    },
    {
      "cell_type": "code",
      "execution_count": 75,
      "metadata": {
        "id": "Eclx_5DNuHh2"
      },
      "outputs": [],
      "source": [
        "# transform=transforms.Compose([\n",
        "#     transforms.ToTensor(),\n",
        "#     transforms.Normalize((0.5),(0.5))\n",
        "#     #1. helps the model to converge faster\n",
        "#     #2. helps to make numerical computations stable\n",
        "# ])\n",
        "transform_train=transforms.Compose([\n",
        "    transforms.RandomCrop(32, padding=4),\n",
        "    transforms.RandomHorizontalFlip(),\n",
        "    transforms.ColorJitter(brightness=0.2, contrast=0.2, saturation=0.2, hue=0.2),\n",
        "    transforms.ToTensor(),\n",
        "    transforms.Normalize((0.5),(0.5))\n",
        "])\n",
        "\n",
        "transform_test=transforms.Compose([\n",
        "    transforms.ToTensor(),\n",
        "    transforms.Normalize((0.5),(0.5))\n",
        "])"
      ]
    },
    {
      "cell_type": "markdown",
      "metadata": {
        "id": "MpUzG_WUvuTH"
      },
      "source": [
        "#6. Getting a dataset"
      ]
    },
    {
      "cell_type": "code",
      "execution_count": 76,
      "metadata": {
        "id": "2-bW2RHVuIDd"
      },
      "outputs": [],
      "source": [
        "train_dataset=datasets.CIFAR10(root=\"data\",\n",
        "                               train=True,\n",
        "                               download=True,\n",
        "                               transform=transform_train)"
      ]
    },
    {
      "cell_type": "code",
      "execution_count": 77,
      "metadata": {
        "id": "nnAPN8Jowd-W"
      },
      "outputs": [],
      "source": [
        "test_dataset=datasets.CIFAR10(root=\"data\",\n",
        "                               train=False,\n",
        "                               download=True,\n",
        "                               transform=transform_test)"
      ]
    },
    {
      "cell_type": "code",
      "execution_count": 78,
      "metadata": {
        "colab": {
          "base_uri": "https://localhost:8080/"
        },
        "id": "Zc7WVQ4zwoYy",
        "outputId": "18ebc8b6-29e7-44ba-a35b-c1523dedc3c7"
      },
      "outputs": [
        {
          "output_type": "execute_result",
          "data": {
            "text/plain": [
              "Dataset CIFAR10\n",
              "    Number of datapoints: 50000\n",
              "    Root location: data\n",
              "    Split: Train\n",
              "    StandardTransform\n",
              "Transform: Compose(\n",
              "               RandomCrop(size=(32, 32), padding=4)\n",
              "               RandomHorizontalFlip(p=0.5)\n",
              "               ColorJitter(brightness=(0.8, 1.2), contrast=(0.8, 1.2), saturation=(0.8, 1.2), hue=(-0.2, 0.2))\n",
              "               ToTensor()\n",
              "               Normalize(mean=0.5, std=0.5)\n",
              "           )"
            ]
          },
          "metadata": {},
          "execution_count": 78
        }
      ],
      "source": [
        "train_dataset"
      ]
    },
    {
      "cell_type": "code",
      "execution_count": 79,
      "metadata": {
        "colab": {
          "base_uri": "https://localhost:8080/"
        },
        "id": "iEq67IiWwrbc",
        "outputId": "4f542fb5-f73a-4cfe-ea93-b23414d07ed7"
      },
      "outputs": [
        {
          "output_type": "execute_result",
          "data": {
            "text/plain": [
              "Dataset CIFAR10\n",
              "    Number of datapoints: 10000\n",
              "    Root location: data\n",
              "    Split: Test\n",
              "    StandardTransform\n",
              "Transform: Compose(\n",
              "               ToTensor()\n",
              "               Normalize(mean=0.5, std=0.5)\n",
              "           )"
            ]
          },
          "metadata": {},
          "execution_count": 79
        }
      ],
      "source": [
        "test_dataset"
      ]
    },
    {
      "cell_type": "code",
      "execution_count": 80,
      "metadata": {
        "colab": {
          "base_uri": "https://localhost:8080/"
        },
        "id": "LNS2ZHtaw0PH",
        "outputId": "09ac5dad-77a9-4538-ec07-e8c7a7d63652"
      },
      "outputs": [
        {
          "output_type": "execute_result",
          "data": {
            "text/plain": [
              "50000"
            ]
          },
          "metadata": {},
          "execution_count": 80
        }
      ],
      "source": [
        "len(train_dataset)"
      ]
    },
    {
      "cell_type": "code",
      "execution_count": 81,
      "metadata": {
        "colab": {
          "base_uri": "https://localhost:8080/"
        },
        "id": "eoC_js1tw4md",
        "outputId": "1ea847fa-b95b-4dd7-cb43-794f25b31e7d"
      },
      "outputs": [
        {
          "output_type": "execute_result",
          "data": {
            "text/plain": [
              "10000"
            ]
          },
          "metadata": {},
          "execution_count": 81
        }
      ],
      "source": [
        "len(test_dataset)"
      ]
    },
    {
      "cell_type": "markdown",
      "metadata": {
        "id": "jdqFTq8oxBwj"
      },
      "source": [
        "#7. Converting our dataset into dataloaders"
      ]
    },
    {
      "cell_type": "code",
      "execution_count": 82,
      "metadata": {
        "id": "GjDFRPnSxZO4"
      },
      "outputs": [],
      "source": [
        "train_loader=DataLoader(dataset=train_dataset,\n",
        "                        batch_size=BATCH_SIZE,\n",
        "                        shuffle=True)\n",
        "test_loader=DataLoader(dataset=test_dataset,\n",
        "                        batch_size=BATCH_SIZE,\n",
        "                        shuffle=False)\n"
      ]
    },
    {
      "cell_type": "code",
      "execution_count": 83,
      "metadata": {
        "colab": {
          "base_uri": "https://localhost:8080/"
        },
        "id": "B1sYujrN0yoL",
        "outputId": "6339df7d-8191-47fe-b5e9-a18fcdbd9123"
      },
      "outputs": [
        {
          "output_type": "stream",
          "name": "stdout",
          "text": [
            "Dataloader:(<torch.utils.data.dataloader.DataLoader object at 0x787ca24b8c10>, <torch.utils.data.dataloader.DataLoader object at 0x787c843cd510>)\n",
            "Length of train loader:391 batches of 128\n",
            "Length of test loader:79 batches of 128\n"
          ]
        }
      ],
      "source": [
        "print(f\"Dataloader:{train_loader,test_loader}\")\n",
        "print(f\"Length of train loader:{len(train_loader)} batches of {BATCH_SIZE}\")\n",
        "print(f\"Length of test loader:{len(test_loader)} batches of {BATCH_SIZE}\")"
      ]
    },
    {
      "cell_type": "markdown",
      "metadata": {
        "id": "g9zdP4vD3Pzd"
      },
      "source": [
        "#8. Building Vision Transformer Model from Scratch"
      ]
    },
    {
      "cell_type": "code",
      "execution_count": 84,
      "metadata": {
        "id": "lJRU3mMX3Yyo"
      },
      "outputs": [],
      "source": [
        "import torch\n",
        "import torch.nn as nn\n",
        "import torch.nn.functional as F\n",
        "\n",
        "class PatchEmbedding(nn.Module):\n",
        "  def __init__(self,\n",
        "                img_size,\n",
        "                patch_size,\n",
        "                in_channels,\n",
        "                embed_dim):\n",
        "    super().__init__()\n",
        "    self.patch_size=patch_size\n",
        "    self.proj=nn.Conv2d(in_channels=in_channels,\n",
        "                        out_channels=embed_dim,\n",
        "                        kernel_size=patch_size,\n",
        "                        stride=patch_size)\n",
        "    num_patches=(img_size//patch_size)**2\n",
        "    self.cls_token=nn.Parameter(torch.randn(1,1,embed_dim))\n",
        "    self.pos_embed=nn.Parameter(torch.randn(1,1+num_patches,embed_dim))\n",
        "\n",
        "  def forward(self, x:torch.Tensor):\n",
        "    B=x.size(0)\n",
        "    x=self.proj(x) #(B,E,H/P,W/P)\n",
        "    x=x.flatten(2).transpose(1,2) #(B,N,E)\n",
        "    # The line below is causing an error as cls_token is a Parameter, not a callable method.\n",
        "    # cls_token=self.cls_token(B,-1,-1)\n",
        "    # Fix: Expand the cls_token to match the batch size\n",
        "    cls_token = self.cls_token.expand(B, -1, -1)\n",
        "    x=torch.cat((cls_token,x),dim=1)\n",
        "    x=x+self.pos_embed\n",
        "    return x"
      ]
    },
    {
      "cell_type": "code",
      "execution_count": 85,
      "metadata": {
        "id": "Mq00_2fE6HOh"
      },
      "outputs": [],
      "source": [
        "class MLP(nn.Module):\n",
        "  def __init__(self,\n",
        "               in_features,\n",
        "               hidden_features,\n",
        "               drop_rate):\n",
        "    super().__init__()\n",
        "    self.fc1=nn.Linear(in_features=in_features,\n",
        "                       out_features=hidden_features)\n",
        "    self.fc2=nn.Linear(in_features=hidden_features,\n",
        "                       out_features=in_features)\n",
        "    self.dropout=nn.Dropout(drop_rate)\n",
        "\n",
        "  def forward(self,x):\n",
        "    x=self.dropout(F.gelu(self.fc1(x)))\n",
        "    x=self.dropout(self.fc2(x))\n",
        "    return x"
      ]
    },
    {
      "cell_type": "code",
      "execution_count": 86,
      "metadata": {
        "id": "fXNuiKP_IUEF"
      },
      "outputs": [],
      "source": [
        "class TransformerEncoderLayer(nn.Module):\n",
        "  def __init__(self,embed_dim,num_heads,mlp_dim,drop_rate):\n",
        "    super().__init__()\n",
        "    self.norm1=nn.LayerNorm(embed_dim)\n",
        "    self.attn=nn.MultiheadAttention(embed_dim,num_heads, dropout=drop_rate, batch_first=True)\n",
        "    self.norm2=nn.LayerNorm(embed_dim)\n",
        "    self.mlp=MLP(embed_dim, mlp_dim, drop_rate)\n",
        "\n",
        "  def forward(self,x):\n",
        "    x=x+self.attn(self.norm1(x),self.norm1(x),self.norm1(x))[0]\n",
        "    x=x+self.mlp(self.norm2(x))\n",
        "    return x"
      ]
    },
    {
      "cell_type": "code",
      "execution_count": 87,
      "metadata": {
        "id": "0wLIUpDOJRXX"
      },
      "outputs": [],
      "source": [
        "class VisionTransformer(nn.Module):\n",
        "  def __init__(self, img_size, patch_size, in_channels, num_classes, embed_dim, depth, num_heads, mlp_dim, drop_rate):\n",
        "    super().__init__()\n",
        "    self.patch_embed=PatchEmbedding(img_size, patch_size, in_channels, embed_dim)\n",
        "    self.encoder=nn.Sequential(*[\n",
        "        TransformerEncoderLayer(embed_dim, num_heads, mlp_dim, drop_rate)\n",
        "        for _ in range(depth)])\n",
        "    self.norm=nn.LayerNorm(embed_dim)\n",
        "    self.head=nn.Linear(embed_dim,num_classes)\n",
        "  def forward(self,x):\n",
        "    x=self.patch_embed(x)\n",
        "    x=self.encoder(x)\n",
        "    x=self.norm(x)\n",
        "    cls_token=x[:,0]\n",
        "    return self.head(cls_token)"
      ]
    },
    {
      "cell_type": "code",
      "execution_count": 88,
      "metadata": {
        "id": "xVJITfBuKA4C"
      },
      "outputs": [],
      "source": [
        "#instantiate model\n",
        "model=VisionTransformer(\n",
        "    IMAGE_SIZE, PATCH_SIZE, CHANNELS, NUM_CLASSES,\n",
        "    EMBED_DIM, DEPTH, NUM_HEADS, MLP_DIM, DROP_RATE\n",
        ").to(device)"
      ]
    },
    {
      "cell_type": "code",
      "execution_count": 89,
      "metadata": {
        "colab": {
          "base_uri": "https://localhost:8080/"
        },
        "id": "O2JILbYoJt1c",
        "outputId": "5971acd0-1b7c-479c-e68d-702fb2ef4f17"
      },
      "outputs": [
        {
          "output_type": "execute_result",
          "data": {
            "text/plain": [
              "VisionTransformer(\n",
              "  (patch_embed): PatchEmbedding(\n",
              "    (proj): Conv2d(3, 256, kernel_size=(4, 4), stride=(4, 4))\n",
              "  )\n",
              "  (encoder): Sequential(\n",
              "    (0): TransformerEncoderLayer(\n",
              "      (norm1): LayerNorm((256,), eps=1e-05, elementwise_affine=True)\n",
              "      (attn): MultiheadAttention(\n",
              "        (out_proj): NonDynamicallyQuantizableLinear(in_features=256, out_features=256, bias=True)\n",
              "      )\n",
              "      (norm2): LayerNorm((256,), eps=1e-05, elementwise_affine=True)\n",
              "      (mlp): MLP(\n",
              "        (fc1): Linear(in_features=256, out_features=512, bias=True)\n",
              "        (fc2): Linear(in_features=512, out_features=256, bias=True)\n",
              "        (dropout): Dropout(p=0.1, inplace=False)\n",
              "      )\n",
              "    )\n",
              "    (1): TransformerEncoderLayer(\n",
              "      (norm1): LayerNorm((256,), eps=1e-05, elementwise_affine=True)\n",
              "      (attn): MultiheadAttention(\n",
              "        (out_proj): NonDynamicallyQuantizableLinear(in_features=256, out_features=256, bias=True)\n",
              "      )\n",
              "      (norm2): LayerNorm((256,), eps=1e-05, elementwise_affine=True)\n",
              "      (mlp): MLP(\n",
              "        (fc1): Linear(in_features=256, out_features=512, bias=True)\n",
              "        (fc2): Linear(in_features=512, out_features=256, bias=True)\n",
              "        (dropout): Dropout(p=0.1, inplace=False)\n",
              "      )\n",
              "    )\n",
              "    (2): TransformerEncoderLayer(\n",
              "      (norm1): LayerNorm((256,), eps=1e-05, elementwise_affine=True)\n",
              "      (attn): MultiheadAttention(\n",
              "        (out_proj): NonDynamicallyQuantizableLinear(in_features=256, out_features=256, bias=True)\n",
              "      )\n",
              "      (norm2): LayerNorm((256,), eps=1e-05, elementwise_affine=True)\n",
              "      (mlp): MLP(\n",
              "        (fc1): Linear(in_features=256, out_features=512, bias=True)\n",
              "        (fc2): Linear(in_features=512, out_features=256, bias=True)\n",
              "        (dropout): Dropout(p=0.1, inplace=False)\n",
              "      )\n",
              "    )\n",
              "    (3): TransformerEncoderLayer(\n",
              "      (norm1): LayerNorm((256,), eps=1e-05, elementwise_affine=True)\n",
              "      (attn): MultiheadAttention(\n",
              "        (out_proj): NonDynamicallyQuantizableLinear(in_features=256, out_features=256, bias=True)\n",
              "      )\n",
              "      (norm2): LayerNorm((256,), eps=1e-05, elementwise_affine=True)\n",
              "      (mlp): MLP(\n",
              "        (fc1): Linear(in_features=256, out_features=512, bias=True)\n",
              "        (fc2): Linear(in_features=512, out_features=256, bias=True)\n",
              "        (dropout): Dropout(p=0.1, inplace=False)\n",
              "      )\n",
              "    )\n",
              "    (4): TransformerEncoderLayer(\n",
              "      (norm1): LayerNorm((256,), eps=1e-05, elementwise_affine=True)\n",
              "      (attn): MultiheadAttention(\n",
              "        (out_proj): NonDynamicallyQuantizableLinear(in_features=256, out_features=256, bias=True)\n",
              "      )\n",
              "      (norm2): LayerNorm((256,), eps=1e-05, elementwise_affine=True)\n",
              "      (mlp): MLP(\n",
              "        (fc1): Linear(in_features=256, out_features=512, bias=True)\n",
              "        (fc2): Linear(in_features=512, out_features=256, bias=True)\n",
              "        (dropout): Dropout(p=0.1, inplace=False)\n",
              "      )\n",
              "    )\n",
              "    (5): TransformerEncoderLayer(\n",
              "      (norm1): LayerNorm((256,), eps=1e-05, elementwise_affine=True)\n",
              "      (attn): MultiheadAttention(\n",
              "        (out_proj): NonDynamicallyQuantizableLinear(in_features=256, out_features=256, bias=True)\n",
              "      )\n",
              "      (norm2): LayerNorm((256,), eps=1e-05, elementwise_affine=True)\n",
              "      (mlp): MLP(\n",
              "        (fc1): Linear(in_features=256, out_features=512, bias=True)\n",
              "        (fc2): Linear(in_features=512, out_features=256, bias=True)\n",
              "        (dropout): Dropout(p=0.1, inplace=False)\n",
              "      )\n",
              "    )\n",
              "  )\n",
              "  (norm): LayerNorm((256,), eps=1e-05, elementwise_affine=True)\n",
              "  (head): Linear(in_features=256, out_features=10, bias=True)\n",
              ")"
            ]
          },
          "metadata": {},
          "execution_count": 89
        }
      ],
      "source": [
        "model"
      ]
    },
    {
      "cell_type": "markdown",
      "metadata": {
        "id": "oAqW2pMqK966"
      },
      "source": [
        "#9. Defining a loss function and an optimizer"
      ]
    },
    {
      "cell_type": "code",
      "execution_count": 90,
      "metadata": {
        "id": "9voZ3IXRLCJC"
      },
      "outputs": [],
      "source": [
        "criterion=nn.CrossEntropyLoss() #how wwrong our model is\n",
        "optimizer=torch.optim.Adam(params=model.parameters(), #update our models's parameters to try and reduce the loss\n",
        "                           lr=LEARNING_RATE)"
      ]
    },
    {
      "cell_type": "code",
      "execution_count": 91,
      "metadata": {
        "colab": {
          "base_uri": "https://localhost:8080/"
        },
        "id": "aXEMZGM6JtyB",
        "outputId": "71057d1d-1271-45d3-e79c-cfe76baa9df4"
      },
      "outputs": [
        {
          "output_type": "execute_result",
          "data": {
            "text/plain": [
              "CrossEntropyLoss()"
            ]
          },
          "metadata": {},
          "execution_count": 91
        }
      ],
      "source": [
        "criterion"
      ]
    },
    {
      "cell_type": "code",
      "execution_count": 92,
      "metadata": {
        "colab": {
          "base_uri": "https://localhost:8080/"
        },
        "id": "WWlac8QsQYaJ",
        "outputId": "272bd5f6-eb82-4055-adc7-3aee9f17bc68"
      },
      "outputs": [
        {
          "output_type": "execute_result",
          "data": {
            "text/plain": [
              "Adam (\n",
              "Parameter Group 0\n",
              "    amsgrad: False\n",
              "    betas: (0.9, 0.999)\n",
              "    capturable: False\n",
              "    differentiable: False\n",
              "    eps: 1e-08\n",
              "    foreach: None\n",
              "    fused: None\n",
              "    lr: 0.0003\n",
              "    maximize: False\n",
              "    weight_decay: 0\n",
              ")"
            ]
          },
          "metadata": {},
          "execution_count": 92
        }
      ],
      "source": [
        "optimizer"
      ]
    },
    {
      "cell_type": "markdown",
      "metadata": {
        "id": "6mh0mG_mWGtN"
      },
      "source": [
        "#10. Defining a training loop function"
      ]
    },
    {
      "cell_type": "code",
      "execution_count": 93,
      "metadata": {
        "id": "GgrKEcDXWEPI"
      },
      "outputs": [],
      "source": [
        "def train(model, loader, optimizer, criterion):\n",
        "  #set the mode of the model into training\n",
        "  model.train()\n",
        "  total_loss, correct=0, 0\n",
        "  for x,y in loader:\n",
        "    #moving (sending) our data into the target device\n",
        "    x,y=x.to(device),y.to(device)\n",
        "    optimizer.zero_grad()\n",
        "    #1. forward pass (model outputs raw logits)\n",
        "    out=model(x)\n",
        "    #2. calculate loss (per batch)\n",
        "    loss=criterion(out,y)\n",
        "    #3. perform back propagation\n",
        "    loss.backward()\n",
        "    #4. perform grad descent\n",
        "    optimizer.step()\n",
        "    total_loss+=loss.item()*x.size(0)\n",
        "    correct+=(out.argmax(1)==y).sum().item()\n",
        "\n",
        "  #you have to scale the loss (normalization step to make the loss general across all batches)\n",
        "  return total_loss/len(loader.dataset), correct/len(loader.dataset)\n",
        "\n"
      ]
    },
    {
      "cell_type": "code",
      "execution_count": 94,
      "metadata": {
        "id": "UXC1Pq01YQg-"
      },
      "outputs": [],
      "source": [
        "def evaluate(model,loader):\n",
        "  model.eval() #set the mode of the model into evaluation\n",
        "  correct=0\n",
        "  with torch.inference_mode():\n",
        "    for x,y in loader:\n",
        "      x,y=x.to(device), y.to(device)\n",
        "      out=model(x)\n",
        "      correct+=(out.argmax(dim=1)==y).sum().item()\n",
        "  return correct/len(loader.dataset)"
      ]
    },
    {
      "cell_type": "code",
      "execution_count": 95,
      "metadata": {
        "id": "NDLodXcPIFaw"
      },
      "outputs": [],
      "source": [
        "from tqdm.auto import tqdm"
      ]
    },
    {
      "cell_type": "code",
      "execution_count": 96,
      "metadata": {
        "colab": {
          "base_uri": "https://localhost:8080/",
          "height": 743,
          "referenced_widgets": [
            "5b34f857256d423d8fb9510fd1f182fb",
            "d2e60f73a4834855ac3d7230e94cea7f",
            "962198635ebb48c2a2461adb578b61b4",
            "43e69b1b1f724ba886488fe9cc40d8e4",
            "dbcc8d4594c7458ca284eb271209ebf8",
            "44a01d4111d147678934f78de8ddcec5",
            "d775e7d300314d699811958a78fd2681",
            "6b9a695eff21454dbd2c571b506c7bef",
            "2df7e82739c34c10a4553a593eded791",
            "2cf4f79bbf68466281aacd24502993ab",
            "57c3c0bc4c514e92b088745a212d658f"
          ]
        },
        "id": "uQMrcQRqG9hv",
        "outputId": "234689b3-4f27-4239-8da0-e0fe15e83cfd"
      },
      "outputs": [
        {
          "output_type": "display_data",
          "data": {
            "text/plain": [
              "  0%|          | 0/40 [00:00<?, ?it/s]"
            ],
            "application/vnd.jupyter.widget-view+json": {
              "version_major": 2,
              "version_minor": 0,
              "model_id": "5b34f857256d423d8fb9510fd1f182fb"
            }
          },
          "metadata": {}
        },
        {
          "output_type": "stream",
          "name": "stdout",
          "text": [
            "Epoch:1/40, Train loss:1.9472, Train acc:0.2851%, Test acc:0.4075\n",
            "Epoch:2/40, Train loss:1.6743, Train acc:0.3919%, Test acc:0.4763\n",
            "Epoch:3/40, Train loss:1.5510, Train acc:0.4391%, Test acc:0.5078\n",
            "Epoch:4/40, Train loss:1.4691, Train acc:0.4705%, Test acc:0.5234\n",
            "Epoch:5/40, Train loss:1.4219, Train acc:0.4877%, Test acc:0.5411\n",
            "Epoch:6/40, Train loss:1.3617, Train acc:0.5105%, Test acc:0.5663\n",
            "Epoch:7/40, Train loss:1.3139, Train acc:0.5322%, Test acc:0.5802\n",
            "Epoch:8/40, Train loss:1.2615, Train acc:0.5485%, Test acc:0.5902\n",
            "Epoch:9/40, Train loss:1.2209, Train acc:0.5658%, Test acc:0.6075\n",
            "Epoch:10/40, Train loss:1.1791, Train acc:0.5769%, Test acc:0.6159\n",
            "Epoch:11/40, Train loss:1.1389, Train acc:0.5936%, Test acc:0.6264\n",
            "Epoch:12/40, Train loss:1.1026, Train acc:0.6057%, Test acc:0.6401\n",
            "Epoch:13/40, Train loss:1.0706, Train acc:0.6176%, Test acc:0.6355\n",
            "Epoch:14/40, Train loss:1.0451, Train acc:0.6279%, Test acc:0.6537\n",
            "Epoch:15/40, Train loss:1.0174, Train acc:0.6381%, Test acc:0.6651\n",
            "Epoch:16/40, Train loss:0.9871, Train acc:0.6495%, Test acc:0.6685\n",
            "Epoch:17/40, Train loss:0.9692, Train acc:0.6542%, Test acc:0.6586\n",
            "Epoch:18/40, Train loss:0.9450, Train acc:0.6636%, Test acc:0.6821\n",
            "Epoch:19/40, Train loss:0.9256, Train acc:0.6714%, Test acc:0.6812\n",
            "Epoch:20/40, Train loss:0.9060, Train acc:0.6806%, Test acc:0.6791\n",
            "Epoch:21/40, Train loss:0.8864, Train acc:0.6863%, Test acc:0.6922\n",
            "Epoch:22/40, Train loss:0.8685, Train acc:0.6923%, Test acc:0.7098\n",
            "Epoch:23/40, Train loss:0.8487, Train acc:0.6998%, Test acc:0.7144\n",
            "Epoch:24/40, Train loss:0.8260, Train acc:0.7067%, Test acc:0.7175\n",
            "Epoch:25/40, Train loss:0.8048, Train acc:0.7143%, Test acc:0.7213\n",
            "Epoch:26/40, Train loss:0.7846, Train acc:0.7220%, Test acc:0.7332\n",
            "Epoch:27/40, Train loss:0.7683, Train acc:0.7276%, Test acc:0.7480\n",
            "Epoch:28/40, Train loss:0.7417, Train acc:0.7370%, Test acc:0.7421\n",
            "Epoch:29/40, Train loss:0.7265, Train acc:0.7414%, Test acc:0.7420\n",
            "Epoch:30/40, Train loss:0.7222, Train acc:0.7458%, Test acc:0.7423\n",
            "Epoch:31/40, Train loss:0.6970, Train acc:0.7529%, Test acc:0.7524\n",
            "Epoch:32/40, Train loss:0.6896, Train acc:0.7557%, Test acc:0.7549\n",
            "Epoch:33/40, Train loss:0.6720, Train acc:0.7604%, Test acc:0.7453\n",
            "Epoch:34/40, Train loss:0.6578, Train acc:0.7666%, Test acc:0.7613\n",
            "Epoch:35/40, Train loss:0.6423, Train acc:0.7721%, Test acc:0.7582\n",
            "Epoch:36/40, Train loss:0.6288, Train acc:0.7777%, Test acc:0.7646\n",
            "Epoch:37/40, Train loss:0.6193, Train acc:0.7822%, Test acc:0.7652\n",
            "Epoch:38/40, Train loss:0.6032, Train acc:0.7860%, Test acc:0.7644\n",
            "Epoch:39/40, Train loss:0.5911, Train acc:0.7929%, Test acc:0.7748\n",
            "Epoch:40/40, Train loss:0.5847, Train acc:0.7945%, Test acc:0.7768\n"
          ]
        }
      ],
      "source": [
        "#training\n",
        "train_accuracies, test_accuracies=[], []\n",
        "for epoch in tqdm(range(EPOCHS)):\n",
        "  train_loss, train_acc=train(model, train_loader, optimizer, criterion)\n",
        "  test_acc=evaluate(model, test_loader)\n",
        "  train_accuracies.append(train_acc)\n",
        "  test_accuracies.append(test_acc)\n",
        "  print(f\"Epoch:{epoch+1}/{EPOCHS}, Train loss:{train_loss:.4f}, Train acc:{train_acc:.4f}%, Test acc:{test_acc:.4f}\")"
      ]
    },
    {
      "cell_type": "code",
      "execution_count": 97,
      "metadata": {
        "colab": {
          "base_uri": "https://localhost:8080/"
        },
        "id": "lP4MRDpJIQ-u",
        "outputId": "80f467f2-5c63-4787-fda6-a55e2d88096d"
      },
      "outputs": [
        {
          "output_type": "execute_result",
          "data": {
            "text/plain": [
              "[0.28512,\n",
              " 0.39192,\n",
              " 0.43908,\n",
              " 0.4705,\n",
              " 0.48766,\n",
              " 0.51046,\n",
              " 0.5322,\n",
              " 0.54852,\n",
              " 0.56578,\n",
              " 0.57688,\n",
              " 0.5936,\n",
              " 0.6057,\n",
              " 0.61758,\n",
              " 0.62792,\n",
              " 0.63808,\n",
              " 0.64948,\n",
              " 0.65418,\n",
              " 0.66364,\n",
              " 0.6714,\n",
              " 0.68064,\n",
              " 0.68628,\n",
              " 0.69228,\n",
              " 0.6998,\n",
              " 0.70666,\n",
              " 0.71432,\n",
              " 0.72204,\n",
              " 0.72758,\n",
              " 0.73696,\n",
              " 0.74136,\n",
              " 0.74578,\n",
              " 0.75294,\n",
              " 0.75574,\n",
              " 0.76042,\n",
              " 0.76656,\n",
              " 0.77212,\n",
              " 0.77768,\n",
              " 0.78222,\n",
              " 0.78602,\n",
              " 0.79286,\n",
              " 0.79452]"
            ]
          },
          "metadata": {},
          "execution_count": 97
        }
      ],
      "source": [
        "train_accuracies"
      ]
    },
    {
      "cell_type": "code",
      "execution_count": 98,
      "metadata": {
        "colab": {
          "base_uri": "https://localhost:8080/"
        },
        "id": "kKpChcG9ITSU",
        "outputId": "a6bf57a9-bc3b-4751-8900-98a9d9c52a25"
      },
      "outputs": [
        {
          "output_type": "execute_result",
          "data": {
            "text/plain": [
              "[0.4075,\n",
              " 0.4763,\n",
              " 0.5078,\n",
              " 0.5234,\n",
              " 0.5411,\n",
              " 0.5663,\n",
              " 0.5802,\n",
              " 0.5902,\n",
              " 0.6075,\n",
              " 0.6159,\n",
              " 0.6264,\n",
              " 0.6401,\n",
              " 0.6355,\n",
              " 0.6537,\n",
              " 0.6651,\n",
              " 0.6685,\n",
              " 0.6586,\n",
              " 0.6821,\n",
              " 0.6812,\n",
              " 0.6791,\n",
              " 0.6922,\n",
              " 0.7098,\n",
              " 0.7144,\n",
              " 0.7175,\n",
              " 0.7213,\n",
              " 0.7332,\n",
              " 0.748,\n",
              " 0.7421,\n",
              " 0.742,\n",
              " 0.7423,\n",
              " 0.7524,\n",
              " 0.7549,\n",
              " 0.7453,\n",
              " 0.7613,\n",
              " 0.7582,\n",
              " 0.7646,\n",
              " 0.7652,\n",
              " 0.7644,\n",
              " 0.7748,\n",
              " 0.7768]"
            ]
          },
          "metadata": {},
          "execution_count": 98
        }
      ],
      "source": [
        "test_accuracies"
      ]
    },
    {
      "cell_type": "code",
      "execution_count": 99,
      "metadata": {
        "colab": {
          "base_uri": "https://localhost:8080/",
          "height": 472
        },
        "id": "NvmPdLq1IW6b",
        "outputId": "52e1818a-bc75-421d-8cde-500561297e00"
      },
      "outputs": [
        {
          "output_type": "display_data",
          "data": {
            "text/plain": [
              "<Figure size 640x480 with 1 Axes>"
            ],
            "image/png": "[encoded data removed]"
          },
          "metadata": {}
        }
      ],
      "source": [
        "plt.plot(train_accuracies,label=\"Train accuracy\")\n",
        "plt.plot(test_accuracies,label=\"Test accuracy\")\n",
        "plt.xlabel(\"Epochs\")\n",
        "plt.ylabel(\"Accuracy\")\n",
        "plt.legend()\n",
        "plt.title(\"Training and Test Accuracy\")\n",
        "plt.show()"
      ]
    },
    {
      "cell_type": "code",
      "execution_count": 100,
      "metadata": {
        "id": "BalGD3xEIq3_"
      },
      "outputs": [],
      "source": [
        "import random"
      ]
    },
    {
      "cell_type": "code",
      "execution_count": 101,
      "metadata": {
        "colab": {
          "base_uri": "https://localhost:8080/"
        },
        "id": "cS8loXGNIsHC",
        "outputId": "7c53f4e2-2a62-4e1d-9a8e-860c44d182ec"
      },
      "outputs": [
        {
          "output_type": "execute_result",
          "data": {
            "text/plain": [
              "10000"
            ]
          },
          "metadata": {},
          "execution_count": 101
        }
      ],
      "source": [
        "len(test_dataset)"
      ]
    },
    {
      "cell_type": "code",
      "execution_count": 102,
      "metadata": {
        "colab": {
          "base_uri": "https://localhost:8080/"
        },
        "id": "2GxxqQ6kJc3j",
        "outputId": "5fe7bad2-4708-4575-8f67-dd9f327cc5d2"
      },
      "outputs": [
        {
          "output_type": "execute_result",
          "data": {
            "text/plain": [
              "tensor([[[0.6196, 0.6235, 0.6471,  ..., 0.5373, 0.4941, 0.4549],\n",
              "         [0.5961, 0.5922, 0.6235,  ..., 0.5333, 0.4902, 0.4667],\n",
              "         [0.5922, 0.5922, 0.6196,  ..., 0.5451, 0.5098, 0.4706],\n",
              "         ...,\n",
              "         [0.2667, 0.1647, 0.1216,  ..., 0.1490, 0.0510, 0.1569],\n",
              "         [0.2392, 0.1922, 0.1373,  ..., 0.1020, 0.1137, 0.0784],\n",
              "         [0.2118, 0.2196, 0.1765,  ..., 0.0941, 0.1333, 0.0824]],\n",
              "\n",
              "        [[0.4392, 0.4353, 0.4549,  ..., 0.3725, 0.3569, 0.3333],\n",
              "         [0.4392, 0.4314, 0.4471,  ..., 0.3725, 0.3569, 0.3451],\n",
              "         [0.4314, 0.4275, 0.4353,  ..., 0.3843, 0.3725, 0.3490],\n",
              "         ...,\n",
              "         [0.4863, 0.3922, 0.3451,  ..., 0.3804, 0.2510, 0.3333],\n",
              "         [0.4549, 0.4000, 0.3333,  ..., 0.3216, 0.3216, 0.2510],\n",
              "         [0.4196, 0.4118, 0.3490,  ..., 0.3020, 0.3294, 0.2627]],\n",
              "\n",
              "        [[0.1922, 0.1843, 0.2000,  ..., 0.1412, 0.1412, 0.1294],\n",
              "         [0.2000, 0.1569, 0.1765,  ..., 0.1216, 0.1255, 0.1333],\n",
              "         [0.1843, 0.1294, 0.1412,  ..., 0.1333, 0.1333, 0.1294],\n",
              "         ...,\n",
              "         [0.6941, 0.5804, 0.5373,  ..., 0.5725, 0.4235, 0.4980],\n",
              "         [0.6588, 0.5804, 0.5176,  ..., 0.5098, 0.4941, 0.4196],\n",
              "         [0.6275, 0.5843, 0.5176,  ..., 0.4863, 0.5059, 0.4314]]])"
            ]
          },
          "metadata": {},
          "execution_count": 102
        }
      ],
      "source": [
        "test_dataset[0][0]/2+0.5"
      ]
    },
    {
      "cell_type": "code",
      "execution_count": 103,
      "metadata": {
        "id": "Td7yYdPzIuSY"
      },
      "outputs": [],
      "source": [
        "import matplotlib.pyplot as plt\n",
        "import numpy as np\n",
        "import torch\n",
        "\n",
        "def predict_and_plot_grid(model,\n",
        "                          dataset,\n",
        "                          classes,\n",
        "                          grid_size=3):\n",
        "  model.eval()\n",
        "  fig,axes=plt.subplots(grid_size, grid_size, figsize=(9,9))\n",
        "  for i in range(grid_size):\n",
        "    for j in range(grid_size):\n",
        "      idx=random.randint(0,len(dataset)-1)\n",
        "      img,true_label=dataset[idx]\n",
        "      input_tensor=img.unsqueeze(dim=0).to(device)\n",
        "      with torch.inference_mode():\n",
        "        output=model(input_tensor)\n",
        "        _, predicted=torch.max(output.data, 1)\n",
        "      img=img/2+0.5 #un-normalise our images to be able to plot then with matplotlib\n",
        "      npimg=img.cpu().numpy()\n",
        "      axes[i,j].imshow(np.transpose(npimg,(1,2,0)))\n",
        "      truth=classes[true_label]==classes[predicted.item()]\n",
        "      if truth:\n",
        "        color=\"g\"\n",
        "      else:\n",
        "        color=\"r\"\n",
        "      axes[i,j].set_title(f\"Truth: {classes[true_label]}\\n, Predicted:{classes[predicted.item()]}\",fontsize=10,c=color)\n",
        "      axes[i,j].axis(\"off\")\n",
        "  plt.tight_layout()\n",
        "  plt.show()"
      ]
    },
    {
      "cell_type": "code",
      "execution_count": 104,
      "metadata": {
        "colab": {
          "base_uri": "https://localhost:8080/",
          "height": 906
        },
        "id": "T1-bFLAYLDuw",
        "outputId": "c0ad6072-fccb-4e7b-806e-5615c8c080c1"
      },
      "outputs": [
        {
          "output_type": "display_data",
          "data": {
            "text/plain": [
              "<Figure size 900x900 with 9 Axes>"
            ],
            "image/png": "[encoded data removed]"
          },
          "metadata": {}
        }
      ],
      "source": [
        "predict_and_plot_grid(model,\n",
        "                      test_dataset,\n",
        "                      classes=train_dataset.classes,\n",
        "                      grid_size=3)"
      ]
    }
  ],
  "metadata": {
    "accelerator": "GPU",
    "colab": {
      "gpuType": "T4",
      "provenance": [],
      "authorship_tag": "ABX9TyMz6cNv3XEzMk2eof2Q8aRP",
      "include_colab_link": true
    },
    "kernelspec": {
      "display_name": "Python 3",
      "name": "python3"
    },
    "language_info": {
      "name": "python"
    },
    "widgets": {
      "application/vnd.jupyter.widget-state+json": {
        "5b34f857256d423d8fb9510fd1f182fb": {
          "model_module": "@jupyter-widgets/controls",
          "model_name": "HBoxModel",
          "model_module_version": "1.5.0",
          "state": {
            "_dom_classes": [],
            "_model_module": "@jupyter-widgets/controls",
            "_model_module_version": "1.5.0",
            "_model_name": "HBoxModel",
            "_view_count": null,
            "_view_module": "@jupyter-widgets/controls",
            "_view_module_version": "1.5.0",
            "_view_name": "HBoxView",
            "box_style": "",
            "children": [
              "IPY_MODEL_d2e60f73a4834855ac3d7230e94cea7f",
              "IPY_MODEL_962198635ebb48c2a2461adb578b61b4",
              "IPY_MODEL_43e69b1b1f724ba886488fe9cc40d8e4"
            ],
            "layout": "IPY_MODEL_dbcc8d4594c7458ca284eb271209ebf8"
          }
        },
        "d2e60f73a4834855ac3d7230e94cea7f": {
          "model_module": "@jupyter-widgets/controls",
          "model_name": "HTMLModel",
          "model_module_version": "1.5.0",
          "state": {
            "_dom_classes": [],
            "_model_module": "@jupyter-widgets/controls",
            "_model_module_version": "1.5.0",
            "_model_name": "HTMLModel",
            "_view_count": null,
            "_view_module": "@jupyter-widgets/controls",
            "_view_module_version": "1.5.0",
            "_view_name": "HTMLView",
            "description": "",
            "description_tooltip": null,
            "layout": "IPY_MODEL_44a01d4111d147678934f78de8ddcec5",
            "placeholder": "​",
            "style": "IPY_MODEL_d775e7d300314d699811958a78fd2681",
            "value": "100%"
          }
        },
        "962198635ebb48c2a2461adb578b61b4": {
          "model_module": "@jupyter-widgets/controls",
          "model_name": "FloatProgressModel",
          "model_module_version": "1.5.0",
          "state": {
            "_dom_classes": [],
            "_model_module": "@jupyter-widgets/controls",
            "_model_module_version": "1.5.0",
            "_model_name": "FloatProgressModel",
            "_view_count": null,
            "_view_module": "@jupyter-widgets/controls",
            "_view_module_version": "1.5.0",
            "_view_name": "ProgressView",
            "bar_style": "success",
            "description": "",
            "description_tooltip": null,
            "layout": "IPY_MODEL_6b9a695eff21454dbd2c571b506c7bef",
            "max": 40,
            "min": 0,
            "orientation": "horizontal",
            "style": "IPY_MODEL_2df7e82739c34c10a4553a593eded791",
            "value": 40
          }
        },
        "43e69b1b1f724ba886488fe9cc40d8e4": {
          "model_module": "@jupyter-widgets/controls",
          "model_name": "HTMLModel",
          "model_module_version": "1.5.0",
          "state": {
            "_dom_classes": [],
            "_model_module": "@jupyter-widgets/controls",
            "_model_module_version": "1.5.0",
            "_model_name": "HTMLModel",
            "_view_count": null,
            "_view_module": "@jupyter-widgets/controls",
            "_view_module_version": "1.5.0",
            "_view_name": "HTMLView",
            "description": "",
            "description_tooltip": null,
            "layout": "IPY_MODEL_2cf4f79bbf68466281aacd24502993ab",
            "placeholder": "​",
            "style": "IPY_MODEL_57c3c0bc4c514e92b088745a212d658f",
            "value": " 40/40 [54:34&lt;00:00, 81.28s/it]"
          }
        },
        "dbcc8d4594c7458ca284eb271209ebf8": {
          "model_module": "@jupyter-widgets/base",
          "model_name": "LayoutModel",
          "model_module_version": "1.2.0",
          "state": {
            "_model_module": "@jupyter-widgets/base",
            "_model_module_version": "1.2.0",
            "_model_name": "LayoutModel",
            "_view_count": null,
            "_view_module": "@jupyter-widgets/base",
            "_view_module_version": "1.2.0",
            "_view_name": "LayoutView",
            "align_content": null,
            "align_items": null,
            "align_self": null,
            "border": null,
            "bottom": null,
            "display": null,
            "flex": null,
            "flex_flow": null,
            "grid_area": null,
            "grid_auto_columns": null,
            "grid_auto_flow": null,
            "grid_auto_rows": null,
            "grid_column": null,
            "grid_gap": null,
            "grid_row": null,
            "grid_template_areas": null,
            "grid_template_columns": null,
            "grid_template_rows": null,
            "height": null,
            "justify_content": null,
            "justify_items": null,
            "left": null,
            "margin": null,
            "max_height": null,
            "max_width": null,
            "min_height": null,
            "min_width": null,
            "object_fit": null,
            "object_position": null,
            "order": null,
            "overflow": null,
            "overflow_x": null,
            "overflow_y": null,
            "padding": null,
            "right": null,
            "top": null,
            "visibility": null,
            "width": null
          }
        },
        "44a01d4111d147678934f78de8ddcec5": {
          "model_module": "@jupyter-widgets/base",
          "model_name": "LayoutModel",
          "model_module_version": "1.2.0",
          "state": {
            "_model_module": "@jupyter-widgets/base",
            "_model_module_version": "1.2.0",
            "_model_name": "LayoutModel",
            "_view_count": null,
            "_view_module": "@jupyter-widgets/base",
            "_view_module_version": "1.2.0",
            "_view_name": "LayoutView",
            "align_content": null,
            "align_items": null,
            "align_self": null,
            "border": null,
            "bottom": null,
            "display": null,
            "flex": null,
            "flex_flow": null,
            "grid_area": null,
            "grid_auto_columns": null,
            "grid_auto_flow": null,
            "grid_auto_rows": null,
            "grid_column": null,
            "grid_gap": null,
            "grid_row": null,
            "grid_template_areas": null,
            "grid_template_columns": null,
            "grid_template_rows": null,
            "height": null,
            "justify_content": null,
            "justify_items": null,
            "left": null,
            "margin": null,
            "max_height": null,
            "max_width": null,
            "min_height": null,
            "min_width": null,
            "object_fit": null,
            "object_position": null,
            "order": null,
            "overflow": null,
            "overflow_x": null,
            "overflow_y": null,
            "padding": null,
            "right": null,
            "top": null,
            "visibility": null,
            "width": null
          }
        },
        "d775e7d300314d699811958a78fd2681": {
          "model_module": "@jupyter-widgets/controls",
          "model_name": "DescriptionStyleModel",
          "model_module_version": "1.5.0",
          "state": {
            "_model_module": "@jupyter-widgets/controls",
            "_model_module_version": "1.5.0",
            "_model_name": "DescriptionStyleModel",
            "_view_count": null,
            "_view_module": "@jupyter-widgets/base",
            "_view_module_version": "1.2.0",
            "_view_name": "StyleView",
            "description_width": ""
          }
        },
        "6b9a695eff21454dbd2c571b506c7bef": {
          "model_module": "@jupyter-widgets/base",
          "model_name": "LayoutModel",
          "model_module_version": "1.2.0",
          "state": {
            "_model_module": "@jupyter-widgets/base",
            "_model_module_version": "1.2.0",
            "_model_name": "LayoutModel",
            "_view_count": null,
            "_view_module": "@jupyter-widgets/base",
            "_view_module_version": "1.2.0",
            "_view_name": "LayoutView",
            "align_content": null,
            "align_items": null,
            "align_self": null,
            "border": null,
            "bottom": null,
            "display": null,
            "flex": null,
            "flex_flow": null,
            "grid_area": null,
            "grid_auto_columns": null,
            "grid_auto_flow": null,
            "grid_auto_rows": null,
            "grid_column": null,
            "grid_gap": null,
            "grid_row": null,
            "grid_template_areas": null,
            "grid_template_columns": null,
            "grid_template_rows": null,
            "height": null,
            "justify_content": null,
            "justify_items": null,
            "left": null,
            "margin": null,
            "max_height": null,
            "max_width": null,
            "min_height": null,
            "min_width": null,
            "object_fit": null,
            "object_position": null,
            "order": null,
            "overflow": null,
            "overflow_x": null,
            "overflow_y": null,
            "padding": null,
            "right": null,
            "top": null,
            "visibility": null,
            "width": null
          }
        },
        "2df7e82739c34c10a4553a593eded791": {
          "model_module": "@jupyter-widgets/controls",
          "model_name": "ProgressStyleModel",
          "model_module_version": "1.5.0",
          "state": {
            "_model_module": "@jupyter-widgets/controls",
            "_model_module_version": "1.5.0",
            "_model_name": "ProgressStyleModel",
            "_view_count": null,
            "_view_module": "@jupyter-widgets/base",
            "_view_module_version": "1.2.0",
            "_view_name": "StyleView",
            "bar_color": null,
            "description_width": ""
          }
        },
        "2cf4f79bbf68466281aacd24502993ab": {
          "model_module": "@jupyter-widgets/base",
          "model_name": "LayoutModel",
          "model_module_version": "1.2.0",
          "state": {
            "_model_module": "@jupyter-widgets/base",
            "_model_module_version": "1.2.0",
            "_model_name": "LayoutModel",
            "_view_count": null,
            "_view_module": "@jupyter-widgets/base",
            "_view_module_version": "1.2.0",
            "_view_name": "LayoutView",
            "align_content": null,
            "align_items": null,
            "align_self": null,
            "border": null,
            "bottom": null,
            "display": null,
            "flex": null,
            "flex_flow": null,
            "grid_area": null,
            "grid_auto_columns": null,
            "grid_auto_flow": null,
            "grid_auto_rows": null,
            "grid_column": null,
            "grid_gap": null,
            "grid_row": null,
            "grid_template_areas": null,
            "grid_template_columns": null,
            "grid_template_rows": null,
            "height": null,
            "justify_content": null,
            "justify_items": null,
            "left": null,
            "margin": null,
            "max_height": null,
            "max_width": null,
            "min_height": null,
            "min_width": null,
            "object_fit": null,
            "object_position": null,
            "order": null,
            "overflow": null,
            "overflow_x": null,
            "overflow_y": null,
            "padding": null,
            "right": null,
            "top": null,
            "visibility": null,
            "width": null
          }
        },
        "57c3c0bc4c514e92b088745a212d658f": {
          "model_module": "@jupyter-widgets/controls",
          "model_name": "DescriptionStyleModel",
          "model_module_version": "1.5.0",
          "state": {
            "_model_module": "@jupyter-widgets/controls",
            "_model_module_version": "1.5.0",
            "_model_name": "DescriptionStyleModel",
            "_view_count": null,
            "_view_module": "@jupyter-widgets/base",
            "_view_module_version": "1.2.0",
            "_view_name": "StyleView",
            "description_width": ""
          }
        }
      }
    }
  },
  "nbformat": 4,
  "nbformat_minor": 0
}